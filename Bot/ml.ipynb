{
 "cells": [
  {
   "cell_type": "code",
   "execution_count": null,
   "metadata": {},
   "outputs": [],
   "source": [
    "#import statements\n",
    "from sklearn.ensemble import RandomForestClassifier\n",
    "from sklearn.model_selection import train_test_split\n",
    "from sklearn.metrics import accuracy_score\n",
    "import pandas as pd\n",
    "from config import ALPACA_CONFIG\n",
    "from datetime import datetime, timedelta\n",
    "from lumibot.backtesting import YahooDataBacktesting\n",
    "from lumibot.brokers import Alpaca\n",
    "from lumibot.strategies import Strategy\n",
    "from lumibot.traders import Trader\n",
    "import numpy as np"
   ]
  },
  {
   "cell_type": "code",
   "execution_count": null,
   "metadata": {},
   "outputs": [
    {
     "ename": "NameError",
     "evalue": "name 'Strategy' is not defined",
     "output_type": "error",
     "traceback": [
      "\u001b[1;31m---------------------------------------------------------------------------\u001b[0m",
      "\u001b[1;31mNameError\u001b[0m                                 Traceback (most recent call last)",
      "Cell \u001b[1;32mIn[1], line 1\u001b[0m\n\u001b[1;32m----> 1\u001b[0m \u001b[38;5;28;01mclass\u001b[39;00m \u001b[38;5;21;01mML_Trend\u001b[39;00m(\u001b[43mStrategy\u001b[49m):\n\u001b[0;32m      2\u001b[0m     \u001b[38;5;129m@staticmethod\u001b[39m\n\u001b[0;32m      3\u001b[0m     \u001b[38;5;28;01mdef\u001b[39;00m \u001b[38;5;21mcalculate_historical_volatility\u001b[39m(data, period\u001b[38;5;241m=\u001b[39m\u001b[38;5;241m20\u001b[39m):\n\u001b[0;32m      4\u001b[0m         log_returns \u001b[38;5;241m=\u001b[39m np\u001b[38;5;241m.\u001b[39mlog(data[\u001b[38;5;124m'\u001b[39m\u001b[38;5;124mclose\u001b[39m\u001b[38;5;124m'\u001b[39m] \u001b[38;5;241m/\u001b[39m data[\u001b[38;5;124m'\u001b[39m\u001b[38;5;124mclose\u001b[39m\u001b[38;5;124m'\u001b[39m]\u001b[38;5;241m.\u001b[39mshift(\u001b[38;5;241m1\u001b[39m))\n",
      "\u001b[1;31mNameError\u001b[0m: name 'Strategy' is not defined"
     ]
    },
    {
     "ename": "",
     "evalue": "",
     "output_type": "error",
     "traceback": [
      "\u001b[1;31mThe Kernel crashed while executing code in the current cell or a previous cell. \n",
      "\u001b[1;31mPlease review the code in the cell(s) to identify a possible cause of the failure. \n",
      "\u001b[1;31mClick <a href='https://aka.ms/vscodeJupyterKernelCrash'>here</a> for more info. \n",
      "\u001b[1;31mView Jupyter <a href='command:jupyter.viewOutput'>log</a> for further details."
     ]
    }
   ],
   "source": [
    "class ML_Trend(Strategy):\n",
    "    @staticmethod\n",
    "    def calculate_historical_volatility(data, period=20):\n",
    "        log_returns = np.log(data['close'] / data['close'].shift(1))\n",
    "        hv = log_returns.rolling(window=period).std() * np.sqrt(252)  # Annualize\n",
    "        return hv\n",
    "\n",
    "    @staticmethod\n",
    "    def calculate_rsi(data, period=14):\n",
    "        delta = data.diff()\n",
    "        gain = (delta.where(delta > 0, 0)).rolling(window=period).mean()\n",
    "        loss = (-delta.where(delta < 0, 0)).rolling(window=period).mean()\n",
    "        rs = gain / loss\n",
    "        return 100 - (100 / (1 + rs))\n",
    "\n",
    "    @staticmethod\n",
    "    def calculate_macd(data, short_period=7, long_period=21, signal_period=9):\n",
    "        short_ema = data.ewm(span=short_period, min_periods=1, adjust=False).mean()\n",
    "        long_ema = data.ewm(span=long_period, min_periods=1, adjust=False).mean()\n",
    "        macd = short_ema - long_ema\n",
    "        signal_line = macd.ewm(span=signal_period, min_periods=1, adjust=False).mean()\n",
    "        macd_histogram = macd - signal_line\n",
    "        return macd, signal_line, macd_histogram\n",
    "\n",
    "    def initialize(self):\n",
    "        self.sleeptime = \"1D\"\n",
    "        self.model = RandomForestClassifier(n_estimators=100)\n",
    "\n",
    "        # Load historical data\n",
    "        self.data = self.get_historical_prices(\"GOOG\", 51, \"day\").df\n",
    "        self.data['7_day_ma'] = self.data['close'].rolling(7).mean()\n",
    "        self.data['21_day_ma'] = self.data['close'].rolling(21).mean()\n",
    "        self.data['RSI'] = self.calculate_rsi(self.data['close'])\n",
    "        self.data['MACD'], _, _ = self.calculate_macd(self.data['close'])\n",
    "\n",
    "        # Define target labels (Price Movement)\n",
    "        self.data['Price_Movement'] = (self.data['close'].shift(-1) > self.data['close']).astype(int)\n",
    "\n",
    "        # Drop rows with NaN values (from rolling calculations)\n",
    "        self.data = self.data.dropna()\n",
    "\n",
    "        # Prepare features and labels\n",
    "        self.features = self.data[['7_day_ma', '21_day_ma', 'RSI', 'MACD']]\n",
    "        self.labels = self.data['Price_Movement']\n",
    "\n",
    "        # Train the model\n",
    "        X_train, X_test, y_train, y_test = train_test_split(self.features, self.labels, test_size=0.2)\n",
    "        self.model.fit(X_train, y_train)\n",
    "        predictions = self.model.predict(X_test)\n",
    "        print(\"Accuracy: \", accuracy_score(y_test, predictions))\n",
    "\n",
    "    def on_trading_iteration(self):\n",
    "        # Use the model to predict price movement\n",
    "        bars = self.get_historical_prices(\"GOOG\", 21, \"day\")\n",
    "        gld = bars.df\n",
    "        gld['7_day_ma'] = gld['close'].rolling(7).mean()\n",
    "        gld['21_day_ma'] = gld['close'].rolling(21).mean()\n",
    "        gld['RSI'] = self.calculate_rsi(gld['close'])\n",
    "        gld['MACD'], _, _ = self.calculate_macd(gld['close'])\n",
    "        gld = gld.dropna()\n",
    "\n",
    "        # Prepare the latest features\n",
    "        features = gld[['7_day_ma', '21_day_ma', 'RSI', 'MACD']].iloc[-1].values.reshape(1, -1)\n",
    "        prediction = self.model.predict(features)\n",
    "\n",
    "        symbol = \"GOOG\"\n",
    "        quantity = 200\n",
    "\n",
    "        if prediction == 1:  # Buy\n",
    "            pos = self.get_position(symbol)\n",
    "            if pos is None:\n",
    "                order = self.create_order(symbol, quantity, \"buy\")\n",
    "                self.submit_order(order)\n",
    "        elif prediction == 0:  # Sell\n",
    "            pos = self.get_position(symbol)\n",
    "            if pos is not None:\n",
    "                self.sell_all()"
   ]
  },
  {
   "cell_type": "code",
   "execution_count": null,
   "metadata": {},
   "outputs": [],
   "source": [
    "trend=ML_Trend()\n",
    "input_data=pd.DataFrame(trend.data)\n",
    "input_data"
   ]
  }
 ],
 "metadata": {
  "kernelspec": {
   "display_name": "Python 3",
   "language": "python",
   "name": "python3"
  },
  "language_info": {
   "codemirror_mode": {
    "name": "ipython",
    "version": 3
   },
   "file_extension": ".py",
   "mimetype": "text/x-python",
   "name": "python",
   "nbconvert_exporter": "python",
   "pygments_lexer": "ipython3",
   "version": "3.11.4"
  }
 },
 "nbformat": 4,
 "nbformat_minor": 2
}
